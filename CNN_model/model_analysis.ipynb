{
 "cells": [
  {
   "cell_type": "code",
   "execution_count": null,
   "metadata": {
    "vscode": {
     "languageId": "plaintext"
    }
   },
   "outputs": [],
   "source": [
    "import os\n",
    "# from PIL import Image\n",
    "import numpy as np\n",
    "from sklearn.model_selection import train_test_split\n",
    "\n",
    "\n",
    "from data_fixing import *\n",
    "from train_model import *\n",
    "import tensorflowjs as tfjs\n",
    "# import tensorflow as tf\n",
    "\n"
   ]
  },
  {
   "cell_type": "code",
   "execution_count": null,
   "metadata": {
    "vscode": {
     "languageId": "plaintext"
    }
   },
   "outputs": [],
   "source": [
    "data = np.load('../images_as_npz/pokemon_rgb_no_skipped_imgs128x128.npz')\n",
    "images = data['images']\n",
    "print(f\"Loaded images with shape: {images.shape}\")\n",
    "labels = data['labels']\n",
    "print(f\"Loaded labels with shape: {labels.shape}\")\n"
   ]
  },
  {
   "cell_type": "code",
   "execution_count": null,
   "metadata": {
    "vscode": {
     "languageId": "plaintext"
    }
   },
   "outputs": [],
   "source": [
    "# Count occurrences of each unique label\n",
    "unique_labels, label_counts = np.unique(labels, return_counts=True)\n",
    "\n",
    "# Find the Pokémon with the least amount of labels\n",
    "min_label_index = np.argmin(label_counts)\n",
    "min_label = unique_labels[min_label_index]\n",
    "min_label_count = label_counts[min_label_index]\n",
    "\n",
    "print(f\"Pokemon with the least amount of labels: {min_label}\")\n",
    "print(f\"Number of occurrences: {min_label_count}\")\n",
    "\n",
    "X_train, X_test, y_train, y_test = train_test_split(images, labels, test_size=0.2, random_state=12366)\n",
    "\n",
    "train_dataset, val_dataset = create_augmented_train_val_datasets(X_train, y_train, X_test, y_test)"
   ]
  }
 ],
 "metadata": {
  "language_info": {
   "name": "python"
  }
 },
 "nbformat": 4,
 "nbformat_minor": 2
}
